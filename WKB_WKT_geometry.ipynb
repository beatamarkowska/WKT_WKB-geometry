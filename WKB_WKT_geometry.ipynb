{
 "cells": [
  {
   "cell_type": "code",
   "execution_count": 23,
   "id": "ed8f7baf-db72-44ec-b046-42e424831ca2",
   "metadata": {
    "execution": {
     "iopub.execute_input": "2025-04-24T12:47:32.217850Z",
     "iopub.status.busy": "2025-04-24T12:47:32.217630Z",
     "iopub.status.idle": "2025-04-24T12:47:32.593334Z",
     "shell.execute_reply": "2025-04-24T12:47:32.592684Z",
     "shell.execute_reply.started": "2025-04-24T12:47:32.217834Z"
    }
   },
   "outputs": [
    {
     "name": "stderr",
     "output_type": "stream",
     "text": [
      "25/04/24 12:47:32 WARN UDTRegistration: Cannot register UDT for org.geotools.coverage.grid.GridCoverage2D, which is already registered.\n",
      "25/04/24 12:47:32 WARN SimpleFunctionRegistry: The function rs_union_aggr replaced a previously registered function.\n",
      "25/04/24 12:47:32 WARN UDTRegistration: Cannot register UDT for org.locationtech.jts.geom.Geometry, which is already registered.\n",
      "25/04/24 12:47:32 WARN UDTRegistration: Cannot register UDT for org.apache.sedona.common.geometryObjects.Geography, which is already registered.\n",
      "25/04/24 12:47:32 WARN UDTRegistration: Cannot register UDT for org.locationtech.jts.index.SpatialIndex, which is already registered.\n",
      "25/04/24 12:47:32 WARN SimpleFunctionRegistry: The function st_union_aggr replaced a previously registered function.\n",
      "25/04/24 12:47:32 WARN SimpleFunctionRegistry: The function st_envelope_aggr replaced a previously registered function.\n",
      "25/04/24 12:47:32 WARN SimpleFunctionRegistry: The function st_intersection_aggr replaced a previously registered function.\n",
      "25/04/24 12:47:32 WARN SimpleFunctionRegistry: The function st_analyze_aggr replaced a previously registered function.\n"
     ]
    }
   ],
   "source": [
    "from sedona.spark import *\n",
    "config = SedonaContext.builder().getOrCreate()\n",
    "sedona = SedonaContext.create(config)\n",
    "from pyspark.sql.functions import col, expr"
   ]
  },
  {
   "cell_type": "code",
   "execution_count": 6,
   "id": "42c31b71-e068-4d65-b36a-1c183a9184ab",
   "metadata": {
    "execution": {
     "iopub.execute_input": "2025-04-24T11:58:14.006023Z",
     "iopub.status.busy": "2025-04-24T11:58:14.005759Z",
     "iopub.status.idle": "2025-04-24T11:58:14.010129Z",
     "shell.execute_reply": "2025-04-24T11:58:14.009405Z",
     "shell.execute_reply.started": "2025-04-24T11:58:14.006008Z"
    }
   },
   "outputs": [],
   "source": [
    "from pyspark.sql import functions as F\n",
    "from pyspark.sql.types import StringType"
   ]
  },
  {
   "cell_type": "code",
   "execution_count": 36,
   "id": "a5111efd-5155-4ff5-8762-1253549d3792",
   "metadata": {
    "execution": {
     "iopub.execute_input": "2025-04-24T12:54:13.888199Z",
     "iopub.status.busy": "2025-04-24T12:54:13.887502Z",
     "iopub.status.idle": "2025-04-24T12:54:13.890540Z",
     "shell.execute_reply": "2025-04-24T12:54:13.890175Z",
     "shell.execute_reply.started": "2025-04-24T12:54:13.888169Z"
    }
   },
   "outputs": [],
   "source": [
    "parquet_path = \"s3a://wbts-wbc-ve0p9to9ga/453obow93s/data/catalogs/wherobots/beatka/gdelt/data/00000-4719-e7a6239c-d66d-4ca4-a592-db23865b4a5e-0-00001.parquet\""
   ]
  },
  {
   "cell_type": "code",
   "execution_count": 37,
   "id": "90b9e09a-5760-4805-9d1b-ddec39eab1a6",
   "metadata": {
    "execution": {
     "iopub.execute_input": "2025-04-24T12:54:17.967388Z",
     "iopub.status.busy": "2025-04-24T12:54:17.967150Z",
     "iopub.status.idle": "2025-04-24T12:54:18.291306Z",
     "shell.execute_reply": "2025-04-24T12:54:18.290860Z",
     "shell.execute_reply.started": "2025-04-24T12:54:17.967366Z"
    }
   },
   "outputs": [],
   "source": [
    "df = sedona.read.parquet(parquet_path)"
   ]
  },
  {
   "cell_type": "code",
   "execution_count": 38,
   "id": "ae334571-e38d-47ce-add1-02b0dc3fe3bf",
   "metadata": {
    "execution": {
     "iopub.execute_input": "2025-04-24T12:54:22.368198Z",
     "iopub.status.busy": "2025-04-24T12:54:22.367621Z",
     "iopub.status.idle": "2025-04-24T12:54:22.371165Z",
     "shell.execute_reply": "2025-04-24T12:54:22.370814Z",
     "shell.execute_reply.started": "2025-04-24T12:54:22.368182Z"
    }
   },
   "outputs": [
    {
     "name": "stdout",
     "output_type": "stream",
     "text": [
      "root\n",
      " |-- GLOBALEVENTID: string (nullable = true)\n",
      " |-- SQLDATE: string (nullable = true)\n",
      " |-- MonthYear: string (nullable = true)\n",
      " |-- Year: string (nullable = true)\n",
      " |-- FractionDate: string (nullable = true)\n",
      " |-- Actor1Code: string (nullable = true)\n",
      " |-- Actor1Name: string (nullable = true)\n",
      " |-- Actor1CountryCode: string (nullable = true)\n",
      " |-- Actor1KnownGroupCode: string (nullable = true)\n",
      " |-- Actor1EthnicCode: string (nullable = true)\n",
      " |-- Actor1Religion1Code: string (nullable = true)\n",
      " |-- Actor1Religion2Code: string (nullable = true)\n",
      " |-- Actor1Type1Code: string (nullable = true)\n",
      " |-- Actor1Type2Code: string (nullable = true)\n",
      " |-- Actor1Type3Code: string (nullable = true)\n",
      " |-- Actor2Code: string (nullable = true)\n",
      " |-- Actor2Name: string (nullable = true)\n",
      " |-- Actor2CountryCode: string (nullable = true)\n",
      " |-- Actor2KnownGroupCode: string (nullable = true)\n",
      " |-- Actor2EthnicCode: string (nullable = true)\n",
      " |-- Actor2Religion1Code: string (nullable = true)\n",
      " |-- Actor2Religion2Code: string (nullable = true)\n",
      " |-- Actor2Type1Code: string (nullable = true)\n",
      " |-- Actor2Type2Code: string (nullable = true)\n",
      " |-- Actor2Type3Code: string (nullable = true)\n",
      " |-- IsRootEvent: string (nullable = true)\n",
      " |-- EventCode: string (nullable = true)\n",
      " |-- EventBaseCode: string (nullable = true)\n",
      " |-- EventRootCode: string (nullable = true)\n",
      " |-- QuadClass: string (nullable = true)\n",
      " |-- GoldsteinScale: string (nullable = true)\n",
      " |-- NumMentions: string (nullable = true)\n",
      " |-- NumSources: string (nullable = true)\n",
      " |-- NumArticles: string (nullable = true)\n",
      " |-- AvgTone: string (nullable = true)\n",
      " |-- Actor1Geo_Type: string (nullable = true)\n",
      " |-- Actor1Geo_FullName: string (nullable = true)\n",
      " |-- Actor1Geo_CountryCode: string (nullable = true)\n",
      " |-- Actor1Geo_ADM1Code: string (nullable = true)\n",
      " |-- Actor1Geo_Lat: string (nullable = true)\n",
      " |-- Actor1Geo_Long: string (nullable = true)\n",
      " |-- Actor1Geo_FeatureID: string (nullable = true)\n",
      " |-- Actor2Geo_Type: string (nullable = true)\n",
      " |-- Actor2Geo_FullName: string (nullable = true)\n",
      " |-- Actor2Geo_CountryCode: string (nullable = true)\n",
      " |-- Actor2Geo_ADM1Code: string (nullable = true)\n",
      " |-- Actor2Geo_Lat: string (nullable = true)\n",
      " |-- Actor2Geo_Long: string (nullable = true)\n",
      " |-- Actor2Geo_FeatureID: string (nullable = true)\n",
      " |-- ActionGeo_Type: string (nullable = true)\n",
      " |-- ActionGeo_FullName: string (nullable = true)\n",
      " |-- ActionGeo_CountryCode: string (nullable = true)\n",
      " |-- ActionGeo_ADM1Code: string (nullable = true)\n",
      " |-- ActionGeo_Lat: string (nullable = true)\n",
      " |-- ActionGeo_Long: string (nullable = true)\n",
      " |-- ActionGeo_FeatureID: string (nullable = true)\n",
      " |-- DATEADDED: string (nullable = true)\n",
      " |-- SOURCEURL: string (nullable = true)\n",
      " |-- geometry: binary (nullable = true)\n",
      "\n"
     ]
    }
   ],
   "source": [
    "df.printSchema()"
   ]
  },
  {
   "cell_type": "code",
   "execution_count": 59,
   "id": "f751a8b6-8301-4126-a368-32684a8ca85b",
   "metadata": {
    "execution": {
     "iopub.execute_input": "2025-04-24T13:04:06.531231Z",
     "iopub.status.busy": "2025-04-24T13:04:06.531028Z",
     "iopub.status.idle": "2025-04-24T13:04:06.538501Z",
     "shell.execute_reply": "2025-04-24T13:04:06.538084Z",
     "shell.execute_reply.started": "2025-04-24T13:04:06.531216Z"
    }
   },
   "outputs": [],
   "source": [
    "df_selected = df.select(\"geometry\")"
   ]
  },
  {
   "cell_type": "code",
   "execution_count": 61,
   "id": "9862ae2f-10ff-4227-bf5d-f4c1571f6aac",
   "metadata": {
    "execution": {
     "iopub.execute_input": "2025-04-24T13:04:55.408835Z",
     "iopub.status.busy": "2025-04-24T13:04:55.407753Z",
     "iopub.status.idle": "2025-04-24T13:04:55.848449Z",
     "shell.execute_reply": "2025-04-24T13:04:55.847871Z",
     "shell.execute_reply.started": "2025-04-24T13:04:55.408810Z"
    }
   },
   "outputs": [
    {
     "name": "stdout",
     "output_type": "stream",
     "text": [
      "+--------------------+\n",
      "|            geometry|\n",
      "+--------------------+\n",
      "|[00 20 00 00 01 0...|\n",
      "|[00 20 00 00 01 0...|\n",
      "|[00 20 00 00 01 0...|\n",
      "+--------------------+\n",
      "only showing top 3 rows\n",
      "\n"
     ]
    }
   ],
   "source": [
    "df_selected.show(3)"
   ]
  },
  {
   "cell_type": "code",
   "execution_count": 62,
   "id": "7202faad-ccd9-4d11-873d-4d34cc213008",
   "metadata": {
    "execution": {
     "iopub.execute_input": "2025-04-24T13:05:03.022994Z",
     "iopub.status.busy": "2025-04-24T13:05:03.022753Z",
     "iopub.status.idle": "2025-04-24T13:05:03.026125Z",
     "shell.execute_reply": "2025-04-24T13:05:03.025768Z",
     "shell.execute_reply.started": "2025-04-24T13:05:03.022980Z"
    }
   },
   "outputs": [],
   "source": [
    "# Funkcja pomocnicza do dekodowania geometrycznych danych binarnych na WKT (Well-Known Text)\n",
    "def decode_geometry(wkb_col):\n",
    "    return F.expr(f\"ST_AsText(ST_GeomFromWKB({wkb_col}))\")"
   ]
  },
  {
   "cell_type": "code",
   "execution_count": 65,
   "id": "7480a0c5-d93a-4f84-ae97-b5fc00cbf1c7",
   "metadata": {
    "execution": {
     "iopub.execute_input": "2025-04-24T13:05:52.526990Z",
     "iopub.status.busy": "2025-04-24T13:05:52.526746Z",
     "iopub.status.idle": "2025-04-24T13:05:52.535944Z",
     "shell.execute_reply": "2025-04-24T13:05:52.535520Z",
     "shell.execute_reply.started": "2025-04-24T13:05:52.526974Z"
    }
   },
   "outputs": [],
   "source": [
    "# Zdekodowanie kolumny geometry\n",
    "df_decoded = df_selected.withColumn(\"geometry_wkt\", decode_geometry(\"geometry\"))\n"
   ]
  },
  {
   "cell_type": "code",
   "execution_count": 68,
   "id": "1c75c2d7-fab2-49e5-9711-d6bb480e960b",
   "metadata": {
    "execution": {
     "iopub.execute_input": "2025-04-24T13:09:50.934931Z",
     "iopub.status.busy": "2025-04-24T13:09:50.934621Z",
     "iopub.status.idle": "2025-04-24T13:09:50.938376Z",
     "shell.execute_reply": "2025-04-24T13:09:50.937897Z",
     "shell.execute_reply.started": "2025-04-24T13:09:50.934916Z"
    }
   },
   "outputs": [
    {
     "name": "stdout",
     "output_type": "stream",
     "text": [
      "root\n",
      " |-- geometry: binary (nullable = true)\n",
      " |-- geometry_wkt: string (nullable = true)\n",
      "\n"
     ]
    }
   ],
   "source": [
    "df_decoded.printSchema()"
   ]
  },
  {
   "cell_type": "code",
   "execution_count": 67,
   "id": "08aadf6a-576b-4b36-a086-1dfd6522cb56",
   "metadata": {
    "execution": {
     "iopub.execute_input": "2025-04-24T13:09:20.983535Z",
     "iopub.status.busy": "2025-04-24T13:09:20.983013Z",
     "iopub.status.idle": "2025-04-24T13:09:20.992151Z",
     "shell.execute_reply": "2025-04-24T13:09:20.991775Z",
     "shell.execute_reply.started": "2025-04-24T13:09:20.983509Z"
    }
   },
   "outputs": [],
   "source": [
    "# Utwórz nową kolumnę \"geometry\" z kolumny WKT\n",
    "df_with_geometry = df_decoded.withColumn(\"geometry1\", F.expr(\"ST_GeomFromWKT(geometry_wkt)\"))"
   ]
  },
  {
   "cell_type": "code",
   "execution_count": 70,
   "id": "c5c88368-4818-4585-a476-457fd0e8980b",
   "metadata": {
    "execution": {
     "iopub.execute_input": "2025-04-24T13:10:33.015168Z",
     "iopub.status.busy": "2025-04-24T13:10:33.014957Z",
     "iopub.status.idle": "2025-04-24T13:10:33.018099Z",
     "shell.execute_reply": "2025-04-24T13:10:33.017776Z",
     "shell.execute_reply.started": "2025-04-24T13:10:33.015154Z"
    }
   },
   "outputs": [
    {
     "name": "stdout",
     "output_type": "stream",
     "text": [
      "root\n",
      " |-- geometry: binary (nullable = true)\n",
      " |-- geometry_wkt: string (nullable = true)\n",
      " |-- geometry1: geometry (nullable = true)\n",
      "\n"
     ]
    }
   ],
   "source": [
    "df_with_geometry.printSchema()"
   ]
  },
  {
   "cell_type": "code",
   "execution_count": 71,
   "id": "1fa028a0-0df0-4c03-812f-c321bf308fbb",
   "metadata": {
    "execution": {
     "iopub.execute_input": "2025-04-24T13:12:00.000605Z",
     "iopub.status.busy": "2025-04-24T13:11:59.999918Z",
     "iopub.status.idle": "2025-04-24T13:12:00.448433Z",
     "shell.execute_reply": "2025-04-24T13:12:00.448085Z",
     "shell.execute_reply.started": "2025-04-24T13:12:00.000582Z"
    }
   },
   "outputs": [
    {
     "name": "stdout",
     "output_type": "stream",
     "text": [
      "+--------------------+--------------------+--------------------+\n",
      "|            geometry|        geometry_wkt|           geometry1|\n",
      "+--------------------+--------------------+--------------------+\n",
      "|[00 20 00 00 01 0...|POINT (-86.8073 3...|POINT (-86.8073 3...|\n",
      "|[00 20 00 00 01 0...|POINT (-73.9662 4...|POINT (-73.9662 4...|\n",
      "|[00 20 00 00 01 0...|       POINT (38 35)|       POINT (38 35)|\n",
      "|[00 20 00 00 01 0...|POINT (-73.3579 4...|POINT (-73.3579 4...|\n",
      "|[00 20 00 00 01 0...|POINT (-73.3579 4...|POINT (-73.3579 4...|\n",
      "|[00 20 00 00 01 0...|POINT (-72.7995 4...|POINT (-72.7995 4...|\n",
      "|[00 20 00 00 01 0...|POINT (-72.7995 4...|POINT (-72.7995 4...|\n",
      "|[00 20 00 00 01 0...|POINT (-157.531 2...|POINT (-157.531 2...|\n",
      "|[00 20 00 00 01 0...|      POINT (138 36)|      POINT (138 36)|\n",
      "|[00 20 00 00 01 0...|     POINT (133 -27)|     POINT (133 -27)|\n",
      "|[00 20 00 00 01 0...| POINT (146.833 -18)| POINT (146.833 -18)|\n",
      "|[00 20 00 00 01 0...|POINT (51.4128 31...|POINT (51.4128 31...|\n",
      "|[00 20 00 00 01 0...|POINT (51.4128 31...|POINT (51.4128 31...|\n",
      "|[00 20 00 00 01 0...|POINT (51.4128 31...|POINT (51.4128 31...|\n",
      "|[00 20 00 00 01 0...|POINT (-93.9196 4...|POINT (-93.9196 4...|\n",
      "|[00 20 00 00 01 0...|      POINT (-97 38)|      POINT (-97 38)|\n",
      "|[00 20 00 00 01 0...|POINT (-80.1937 2...|POINT (-80.1937 2...|\n",
      "|[00 20 00 00 01 0...|POINT (-73.9662 4...|POINT (-73.9662 4...|\n",
      "|[00 20 00 00 01 0...|       POINT (38 35)|       POINT (38 35)|\n",
      "|[00 20 00 00 01 0...|POINT (-157.531 2...|POINT (-157.531 2...|\n",
      "+--------------------+--------------------+--------------------+\n",
      "only showing top 20 rows\n",
      "\n"
     ]
    }
   ],
   "source": [
    "df_with_geometry.show()"
   ]
  },
  {
   "cell_type": "code",
   "execution_count": 72,
   "id": "1f545711-074c-487c-a63d-8ca7a9b09c2e",
   "metadata": {
    "execution": {
     "iopub.execute_input": "2025-04-24T13:12:54.747174Z",
     "iopub.status.busy": "2025-04-24T13:12:54.746920Z",
     "iopub.status.idle": "2025-04-24T13:12:54.754882Z",
     "shell.execute_reply": "2025-04-24T13:12:54.754300Z",
     "shell.execute_reply.started": "2025-04-24T13:12:54.747158Z"
    }
   },
   "outputs": [],
   "source": [
    "df_decoded1 = df_with_geometry.withColumn(\n",
    "    \"geometry_tekst\",\n",
    "    F.decode(col(\"geometry\"), \"utf-8\")  # Dekodowanie kolumny `geometry` jako tekst\n",
    ")"
   ]
  },
  {
   "cell_type": "code",
   "execution_count": 73,
   "id": "515f178a-a0ae-4c8d-a258-bb1b566612fa",
   "metadata": {
    "execution": {
     "iopub.execute_input": "2025-04-24T13:13:14.607767Z",
     "iopub.status.busy": "2025-04-24T13:13:14.607515Z",
     "iopub.status.idle": "2025-04-24T13:13:15.100984Z",
     "shell.execute_reply": "2025-04-24T13:13:15.100630Z",
     "shell.execute_reply.started": "2025-04-24T13:13:14.607747Z"
    }
   },
   "outputs": [
    {
     "name": "stdout",
     "output_type": "stream",
     "text": [
      "+--------------------+--------------------+--------------------+--------------------+\n",
      "|            geometry|        geometry_wkt|           geometry1|      geometry_tekst|\n",
      "+--------------------+--------------------+--------------------+--------------------+\n",
      "|[00 20 00 00 01 0...|POINT (-86.8073 3...|POINT (-86.8073 3...|\u0000 \u0000\u0000\u0001\u0000\u0000\u0010��U��͞��@...|\n",
      "|[00 20 00 00 01 0...|POINT (-73.9662 4...|POINT (-73.9662 4...|\u0000 \u0000\u0000\u0001\u0000\u0000\u0010��R}�8�YK...|\n",
      "|[00 20 00 00 01 0...|       POINT (38 35)|       POINT (38 35)|\u0000 \u0000\u0000\u0001\u0000\u0000\u0010�@C\u0000\u0000\u0000\u0000\u0000\u0000...|\n",
      "|[00 20 00 00 01 0...|POINT (-73.3579 4...|POINT (-73.3579 4...|\u0000 \u0000\u0000\u0001\u0000\u0000\u0010��RV��f�B...|\n",
      "|[00 20 00 00 01 0...|POINT (-73.3579 4...|POINT (-73.3579 4...|\u0000 \u0000\u0000\u0001\u0000\u0000\u0010��RV��f�B...|\n",
      "|[00 20 00 00 01 0...|POINT (-72.7995 4...|POINT (-72.7995 4...|\u0000 \u0000\u0000\u0001\u0000\u0000\u0010��R3+\u0002\\fI...|\n",
      "|[00 20 00 00 01 0...|POINT (-72.7995 4...|POINT (-72.7995 4...|\u0000 \u0000\u0000\u0001\u0000\u0000\u0010��R3+\u0002\\fI...|\n",
      "|[00 20 00 00 01 0...|POINT (-157.531 2...|POINT (-157.531 2...|\u0000 \u0000\u0000\u0001\u0000\u0000\u0010��c���E�@...|\n",
      "|[00 20 00 00 01 0...|      POINT (138 36)|      POINT (138 36)|\u0000 \u0000\u0000\u0001\u0000\u0000\u0010�@a@\u0000\u0000\u0000\u0000\u0000...|\n",
      "|[00 20 00 00 01 0...|     POINT (133 -27)|     POINT (133 -27)|\u0000 \u0000\u0000\u0001\u0000\u0000\u0010�@`�\u0000\u0000\u0000\u0000\u0000...|\n",
      "|[00 20 00 00 01 0...| POINT (146.833 -18)| POINT (146.833 -18)|\u0000 \u0000\u0000\u0001\u0000\u0000\u0010�@bZ�-�2...|\n",
      "|[00 20 00 00 01 0...|POINT (51.4128 31...|POINT (51.4128 31...|\u0000 \u0000\u0000\u0001\u0000\u0000\u0010�@I�֡a��@...|\n",
      "|[00 20 00 00 01 0...|POINT (51.4128 31...|POINT (51.4128 31...|\u0000 \u0000\u0000\u0001\u0000\u0000\u0010�@I�֡a��@...|\n",
      "|[00 20 00 00 01 0...|POINT (51.4128 31...|POINT (51.4128 31...|\u0000 \u0000\u0000\u0001\u0000\u0000\u0010�@I�֡a��@...|\n",
      "|[00 20 00 00 01 0...|POINT (-93.9196 4...|POINT (-93.9196 4...|\u0000 \u0000\u0000\u0001\u0000\u0000\u0010��Wzڹ�Y�@...|\n",
      "|[00 20 00 00 01 0...|      POINT (-97 38)|      POINT (-97 38)|\u0000 \u0000\u0000\u0001\u0000\u0000\u0010��X@\u0000\u0000\u0000\u0000\u0000...|\n",
      "|[00 20 00 00 01 0...|POINT (-80.1937 2...|POINT (-80.1937 2...|\u0000 \u0000\u0000\u0001\u0000\u0000\u0010��T\\fe��O...|\n",
      "|[00 20 00 00 01 0...|POINT (-73.9662 4...|POINT (-73.9662 4...|\u0000 \u0000\u0000\u0001\u0000\u0000\u0010��R}�8�YK...|\n",
      "|[00 20 00 00 01 0...|       POINT (38 35)|       POINT (38 35)|\u0000 \u0000\u0000\u0001\u0000\u0000\u0010�@C\u0000\u0000\u0000\u0000\u0000\u0000...|\n",
      "|[00 20 00 00 01 0...|POINT (-157.531 2...|POINT (-157.531 2...|\u0000 \u0000\u0000\u0001\u0000\u0000\u0010��c���E�@...|\n",
      "+--------------------+--------------------+--------------------+--------------------+\n",
      "only showing top 20 rows\n",
      "\n"
     ]
    }
   ],
   "source": [
    "df_decoded1.show()"
   ]
  },
  {
   "cell_type": "code",
   "execution_count": 75,
   "id": "949a463c-2015-4c8f-a42d-f9cbe0adb589",
   "metadata": {
    "execution": {
     "iopub.execute_input": "2025-04-24T13:16:14.019302Z",
     "iopub.status.busy": "2025-04-24T13:16:14.018994Z",
     "iopub.status.idle": "2025-04-24T13:16:14.026378Z",
     "shell.execute_reply": "2025-04-24T13:16:14.025998Z",
     "shell.execute_reply.started": "2025-04-24T13:16:14.019286Z"
    }
   },
   "outputs": [],
   "source": [
    "df_renamed = (\n",
    "    df_decoded1.withColumnRenamed(\"geometry\", \"binary\")\n",
    "      .withColumnRenamed(\"geometry1\", \"geometry\")\n",
    ")"
   ]
  },
  {
   "cell_type": "code",
   "execution_count": 76,
   "id": "5f82b265-5903-460c-a433-eb90e902a849",
   "metadata": {
    "execution": {
     "iopub.execute_input": "2025-04-24T13:16:31.974974Z",
     "iopub.status.busy": "2025-04-24T13:16:31.974761Z",
     "iopub.status.idle": "2025-04-24T13:16:32.615801Z",
     "shell.execute_reply": "2025-04-24T13:16:32.615206Z",
     "shell.execute_reply.started": "2025-04-24T13:16:31.974960Z"
    }
   },
   "outputs": [
    {
     "name": "stdout",
     "output_type": "stream",
     "text": [
      "+--------------------+--------------------+--------------------+--------------------+\n",
      "|              binary|        geometry_wkt|            geometry|      geometry_tekst|\n",
      "+--------------------+--------------------+--------------------+--------------------+\n",
      "|[00 20 00 00 01 0...|POINT (-86.8073 3...|POINT (-86.8073 3...|\u0000 \u0000\u0000\u0001\u0000\u0000\u0010��U��͞��@...|\n",
      "|[00 20 00 00 01 0...|POINT (-73.9662 4...|POINT (-73.9662 4...|\u0000 \u0000\u0000\u0001\u0000\u0000\u0010��R}�8�YK...|\n",
      "|[00 20 00 00 01 0...|       POINT (38 35)|       POINT (38 35)|\u0000 \u0000\u0000\u0001\u0000\u0000\u0010�@C\u0000\u0000\u0000\u0000\u0000\u0000...|\n",
      "|[00 20 00 00 01 0...|POINT (-73.3579 4...|POINT (-73.3579 4...|\u0000 \u0000\u0000\u0001\u0000\u0000\u0010��RV��f�B...|\n",
      "|[00 20 00 00 01 0...|POINT (-73.3579 4...|POINT (-73.3579 4...|\u0000 \u0000\u0000\u0001\u0000\u0000\u0010��RV��f�B...|\n",
      "|[00 20 00 00 01 0...|POINT (-72.7995 4...|POINT (-72.7995 4...|\u0000 \u0000\u0000\u0001\u0000\u0000\u0010��R3+\u0002\\fI...|\n",
      "|[00 20 00 00 01 0...|POINT (-72.7995 4...|POINT (-72.7995 4...|\u0000 \u0000\u0000\u0001\u0000\u0000\u0010��R3+\u0002\\fI...|\n",
      "|[00 20 00 00 01 0...|POINT (-157.531 2...|POINT (-157.531 2...|\u0000 \u0000\u0000\u0001\u0000\u0000\u0010��c���E�@...|\n",
      "|[00 20 00 00 01 0...|      POINT (138 36)|      POINT (138 36)|\u0000 \u0000\u0000\u0001\u0000\u0000\u0010�@a@\u0000\u0000\u0000\u0000\u0000...|\n",
      "|[00 20 00 00 01 0...|     POINT (133 -27)|     POINT (133 -27)|\u0000 \u0000\u0000\u0001\u0000\u0000\u0010�@`�\u0000\u0000\u0000\u0000\u0000...|\n",
      "|[00 20 00 00 01 0...| POINT (146.833 -18)| POINT (146.833 -18)|\u0000 \u0000\u0000\u0001\u0000\u0000\u0010�@bZ�-�2...|\n",
      "|[00 20 00 00 01 0...|POINT (51.4128 31...|POINT (51.4128 31...|\u0000 \u0000\u0000\u0001\u0000\u0000\u0010�@I�֡a��@...|\n",
      "|[00 20 00 00 01 0...|POINT (51.4128 31...|POINT (51.4128 31...|\u0000 \u0000\u0000\u0001\u0000\u0000\u0010�@I�֡a��@...|\n",
      "|[00 20 00 00 01 0...|POINT (51.4128 31...|POINT (51.4128 31...|\u0000 \u0000\u0000\u0001\u0000\u0000\u0010�@I�֡a��@...|\n",
      "|[00 20 00 00 01 0...|POINT (-93.9196 4...|POINT (-93.9196 4...|\u0000 \u0000\u0000\u0001\u0000\u0000\u0010��Wzڹ�Y�@...|\n",
      "|[00 20 00 00 01 0...|      POINT (-97 38)|      POINT (-97 38)|\u0000 \u0000\u0000\u0001\u0000\u0000\u0010��X@\u0000\u0000\u0000\u0000\u0000...|\n",
      "|[00 20 00 00 01 0...|POINT (-80.1937 2...|POINT (-80.1937 2...|\u0000 \u0000\u0000\u0001\u0000\u0000\u0010��T\\fe��O...|\n",
      "|[00 20 00 00 01 0...|POINT (-73.9662 4...|POINT (-73.9662 4...|\u0000 \u0000\u0000\u0001\u0000\u0000\u0010��R}�8�YK...|\n",
      "|[00 20 00 00 01 0...|       POINT (38 35)|       POINT (38 35)|\u0000 \u0000\u0000\u0001\u0000\u0000\u0010�@C\u0000\u0000\u0000\u0000\u0000\u0000...|\n",
      "|[00 20 00 00 01 0...|POINT (-157.531 2...|POINT (-157.531 2...|\u0000 \u0000\u0000\u0001\u0000\u0000\u0010��c���E�@...|\n",
      "+--------------------+--------------------+--------------------+--------------------+\n",
      "only showing top 20 rows\n",
      "\n"
     ]
    }
   ],
   "source": [
    "df_renamed.show()"
   ]
  },
  {
   "cell_type": "code",
   "execution_count": 79,
   "id": "14961e98-bd0c-4802-b16d-fb65ff8afd57",
   "metadata": {
    "execution": {
     "iopub.execute_input": "2025-04-24T13:18:33.903249Z",
     "iopub.status.busy": "2025-04-24T13:18:33.903013Z",
     "iopub.status.idle": "2025-04-24T13:18:33.913113Z",
     "shell.execute_reply": "2025-04-24T13:18:33.912681Z",
     "shell.execute_reply.started": "2025-04-24T13:18:33.903234Z"
    }
   },
   "outputs": [],
   "source": [
    "df_geometry_only = df_renamed.select(\"geometry_wkt\", \"geometry\", \"geometry_tekst\")"
   ]
  },
  {
   "cell_type": "code",
   "execution_count": 80,
   "id": "32fba07b-0876-4fdf-bb81-f89d93c304fa",
   "metadata": {
    "execution": {
     "iopub.execute_input": "2025-04-24T13:18:49.408055Z",
     "iopub.status.busy": "2025-04-24T13:18:49.407817Z",
     "iopub.status.idle": "2025-04-24T13:18:55.188213Z",
     "shell.execute_reply": "2025-04-24T13:18:55.187613Z",
     "shell.execute_reply.started": "2025-04-24T13:18:49.408041Z"
    }
   },
   "outputs": [
    {
     "name": "stdout",
     "output_type": "stream",
     "text": [
      "User Guide: https://docs.kepler.gl/docs/keplergl-jupyter\n"
     ]
    },
    {
     "name": "stderr",
     "output_type": "stream",
     "text": [
      "                                                                                \r"
     ]
    },
    {
     "data": {
      "application/vnd.jupyter.widget-view+json": {
       "model_id": "1b5b8bcfa76d4b949229638c5eb950a9",
       "version_major": 2,
       "version_minor": 0
      },
      "text/plain": [
       "KeplerGl(data={'Mapa Globalnych Zdarzeń': {'index': [0, 1, 2, 3, 4, 5, 6, 7, 8, 9, 10, 11, 12, 13, 14, 15, 16,…"
      ]
     },
     "execution_count": 80,
     "metadata": {},
     "output_type": "execute_result"
    }
   ],
   "source": [
    "SedonaKepler.create_map(df_geometry_only, \"Mapa Globalnych Zdarzeń\")"
   ]
  },
  {
   "cell_type": "code",
   "execution_count": null,
   "id": "a50d9997-d5e1-449e-bbaf-da1aea1017fa",
   "metadata": {},
   "outputs": [],
   "source": []
  }
 ],
 "metadata": {
  "kernelspec": {
   "display_name": "Python 3 (ipykernel)",
   "language": "python",
   "name": "python3"
  },
  "language_info": {
   "codemirror_mode": {
    "name": "ipython",
    "version": 3
   },
   "file_extension": ".py",
   "mimetype": "text/x-python",
   "name": "python",
   "nbconvert_exporter": "python",
   "pygments_lexer": "ipython3",
   "version": "3.11.12"
  }
 },
 "nbformat": 4,
 "nbformat_minor": 5
}
